{
 "cells": [
  {
   "cell_type": "code",
   "execution_count": 5,
   "metadata": {
    "collapsed": true
   },
   "outputs": [],
   "source": [
    "import math\n",
    "import numpy as np\n",
    "import pylab\n",
    "import scipy.fftpack\n",
    "import scipy.interpolate\n",
    "import scipy.io\n",
    "import h5py"
   ]
  },
  {
   "cell_type": "code",
   "execution_count": 24,
   "metadata": {
    "collapsed": false
   },
   "outputs": [
    {
     "name": "stdout",
     "output_type": "stream",
     "text": [
      "x:  [ 0.14159234  0.32286664  0.67314182  0.10510791  0.78486943  0.30409225\n",
      "  0.62241936  0.57303836  0.76982663  0.00533202]\n",
      "y:  [ 0.38812464  0.27279585  0.53775224  0.58767443  0.17770843  0.16680055\n",
      "  0.10315586  0.60169223  0.54426243  0.74569236]\n"
     ]
    }
   ],
   "source": [
    "import numpy as np\n",
    "\n",
    "x = np.random.random(10)\n",
    "y = np.random.random(10)\n",
    "print('x: ', x)\n",
    "print('y: ', y)"
   ]
  },
  {
   "cell_type": "code",
   "execution_count": 30,
   "metadata": {
    "collapsed": false
   },
   "outputs": [
    {
     "name": "stdout",
     "output_type": "stream",
     "text": [
      "[ 0.14159234  0.32286664  0.67314182  0.10510791  0.78486943  0.30409225\n",
      "  0.62241936  0.57303836  0.76982663  0.00533202]\n",
      "[ 0.38812464  0.27279585  0.53775224  0.58767443  0.17770843  0.16680055\n",
      "  0.10315586  0.60169223  0.54426243  0.74569236]\n"
     ]
    }
   ],
   "source": [
    "data = np.array(list(zip(x, y)), dtype={'names':['col1', 'col2'], 'formats':['float','float']})\n",
    "print(data['col1'])\n",
    "print(data['col2'])"
   ]
  },
  {
   "cell_type": "code",
   "execution_count": null,
   "metadata": {
    "collapsed": true
   },
   "outputs": [],
   "source": []
  }
 ],
 "metadata": {
  "kernelspec": {
   "display_name": "Python 3",
   "language": "python",
   "name": "python3"
  },
  "language_info": {
   "codemirror_mode": {
    "name": "ipython",
    "version": 3
   },
   "file_extension": ".py",
   "mimetype": "text/x-python",
   "name": "python",
   "nbconvert_exporter": "python",
   "pygments_lexer": "ipython3",
   "version": "3.5.0"
  }
 },
 "nbformat": 4,
 "nbformat_minor": 0
}
