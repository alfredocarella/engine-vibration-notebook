{
 "cells": [
  {
   "cell_type": "code",
   "execution_count": 1,
   "metadata": {
    "collapsed": true
   },
   "outputs": [],
   "source": [
    "import datetime\n",
    "import math\n",
    "import numpy as np\n",
    "import pylab\n",
    "import scipy.fftpack\n",
    "import scipy.interpolate\n",
    "import scipy.io\n",
    "\n",
    "import peakdetect  # (imported from local folder)"
   ]
  },
  {
   "cell_type": "code",
   "execution_count": 2,
   "metadata": {
    "collapsed": false
   },
   "outputs": [],
   "source": [
    "file_name = '3516_100pct.mat' #  '3516_50pct.mat' #  '3516_71pct.mat' #  '3516_90pct.mat' #  '3516_100pct.mat' #  '3516_NoLoad'\n",
    "var_name = 'CylPres_1' #  'CylPres_Cyl6'\n",
    "\n",
    "# dir_path = '../../MATLAB_Files_for_DNV/'\n",
    "dir_path = \"/Users/alfredoc/Dropbox/Documents/02 - Trabajo/07 - DNV GL/2014-05-21 Torsional Vibration Symposium/CATerpillar_DNV-GL_files/MATLAB_Files_for_DNV/\"\n",
    "data = scipy.io.loadmat(\"{0}{1}\".format(dir_path, file_name), squeeze_me=True)"
   ]
  },
  {
   "cell_type": "code",
   "execution_count": 3,
   "metadata": {
    "collapsed": false
   },
   "outputs": [
    {
     "name": "stdout",
     "output_type": "stream",
     "text": [
      "dict_keys(['units', 'EN_F2_Z__X', 'CylPres_Cyl6', 'GEN_F3_Y__Y', 'GEN_F3_Z__Z', 'EN_R1_X__X', 'Event', 'CylPres_1', 'EN_F2_Y__Y', 'TIME', 'GEN_F3_X__X', 'GEN_A_R4_Z__Z', 'RAW_PIP', 'CylPres_Cyl11', 'Flywheel_VC', 'Shaft_TQ', 'EN_R1_Z__Z', 'PIP_VC', '__globals__', 'Version', 'Number_of_Points', 'CylPres_Cyl16', '__version__', 'Sample_Rate', '__header__', 'File_Name', 'GEN_A_R4_Y__Y', 'Tora', 'EN_F2_X__Z', 'Start_Offset'])\n"
     ]
    }
   ],
   "source": [
    "print(data.keys())"
   ]
  },
  {
   "cell_type": "code",
   "execution_count": null,
   "metadata": {
    "collapsed": true
   },
   "outputs": [],
   "source": []
  }
 ],
 "metadata": {
  "kernelspec": {
   "display_name": "Python 3",
   "language": "python",
   "name": "python3"
  },
  "language_info": {
   "codemirror_mode": {
    "name": "ipython",
    "version": 3
   },
   "file_extension": ".py",
   "mimetype": "text/x-python",
   "name": "python",
   "nbconvert_exporter": "python",
   "pygments_lexer": "ipython3",
   "version": "3.5.0"
  }
 },
 "nbformat": 4,
 "nbformat_minor": 0
}
